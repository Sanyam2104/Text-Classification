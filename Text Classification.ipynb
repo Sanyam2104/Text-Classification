{
 "cells": [
  {
   "cell_type": "markdown",
   "id": "c63ea6ea",
   "metadata": {},
   "source": [
    "### Importing Necessary libraries"
   ]
  },
  {
   "cell_type": "code",
   "execution_count": 23,
   "id": "bbe857ca",
   "metadata": {},
   "outputs": [],
   "source": [
    "import re\n",
    "import time\n",
    "import nltk\n",
    "import string\n",
    "import sklearn\n",
    "import numpy as np\n",
    "import pandas as pd\n",
    "from nltk.corpus import stopwords\n",
    "from nltk.tokenize import word_tokenize\n",
    "\n",
    "import matplotlib.pyplot as plt\n",
    "%matplotlib inline"
   ]
  },
  {
   "cell_type": "markdown",
   "id": "d5688feb",
   "metadata": {},
   "source": [
    "#### Fetching 20 newsgroup data "
   ]
  },
  {
   "cell_type": "code",
   "execution_count": 2,
   "id": "fd46d081",
   "metadata": {},
   "outputs": [],
   "source": [
    "from sklearn.datasets import fetch_20newsgroups\n",
    "\n",
    "train_data = fetch_20newsgroups(subset='train',shuffle=True, random_state=42)\n",
    "test_data = fetch_20newsgroups(subset='test',shuffle=True, random_state=42)"
   ]
  },
  {
   "cell_type": "code",
   "execution_count": 3,
   "id": "ee4be90d",
   "metadata": {},
   "outputs": [
    {
     "name": "stdout",
     "output_type": "stream",
     "text": [
      "Trainging Data size :  11314\n",
      "Testing Data size :  7532\n"
     ]
    }
   ],
   "source": [
    "print('Trainging Data size : ' ,len(train_data.data))\n",
    "print('Testing Data size : ' ,len(test_data.data))"
   ]
  },
  {
   "cell_type": "markdown",
   "id": "ad66ca6f",
   "metadata": {},
   "source": [
    "## Training Data"
   ]
  },
  {
   "cell_type": "code",
   "execution_count": 4,
   "id": "1cbd34c9",
   "metadata": {},
   "outputs": [
    {
     "data": {
      "text/html": [
       "<div>\n",
       "<style scoped>\n",
       "    .dataframe tbody tr th:only-of-type {\n",
       "        vertical-align: middle;\n",
       "    }\n",
       "\n",
       "    .dataframe tbody tr th {\n",
       "        vertical-align: top;\n",
       "    }\n",
       "\n",
       "    .dataframe thead th {\n",
       "        text-align: right;\n",
       "    }\n",
       "</style>\n",
       "<table border=\"1\" class=\"dataframe\">\n",
       "  <thead>\n",
       "    <tr style=\"text-align: right;\">\n",
       "      <th></th>\n",
       "      <th>data</th>\n",
       "      <th>target</th>\n",
       "    </tr>\n",
       "  </thead>\n",
       "  <tbody>\n",
       "    <tr>\n",
       "      <th>0</th>\n",
       "      <td>From: lerxst@wam.umd.edu (where's my thing)\\nS...</td>\n",
       "      <td>7</td>\n",
       "    </tr>\n",
       "    <tr>\n",
       "      <th>1</th>\n",
       "      <td>From: guykuo@carson.u.washington.edu (Guy Kuo)...</td>\n",
       "      <td>4</td>\n",
       "    </tr>\n",
       "    <tr>\n",
       "      <th>2</th>\n",
       "      <td>From: twillis@ec.ecn.purdue.edu (Thomas E Will...</td>\n",
       "      <td>4</td>\n",
       "    </tr>\n",
       "    <tr>\n",
       "      <th>3</th>\n",
       "      <td>From: jgreen@amber (Joe Green)\\nSubject: Re: W...</td>\n",
       "      <td>1</td>\n",
       "    </tr>\n",
       "    <tr>\n",
       "      <th>4</th>\n",
       "      <td>From: jcm@head-cfa.harvard.edu (Jonathan McDow...</td>\n",
       "      <td>14</td>\n",
       "    </tr>\n",
       "  </tbody>\n",
       "</table>\n",
       "</div>"
      ],
      "text/plain": [
       "                                                data  target\n",
       "0  From: lerxst@wam.umd.edu (where's my thing)\\nS...       7\n",
       "1  From: guykuo@carson.u.washington.edu (Guy Kuo)...       4\n",
       "2  From: twillis@ec.ecn.purdue.edu (Thomas E Will...       4\n",
       "3  From: jgreen@amber (Joe Green)\\nSubject: Re: W...       1\n",
       "4  From: jcm@head-cfa.harvard.edu (Jonathan McDow...      14"
      ]
     },
     "execution_count": 4,
     "metadata": {},
     "output_type": "execute_result"
    }
   ],
   "source": [
    "df_train = pd.DataFrame({'data': train_data.data, 'target':train_data.target})\n",
    "df_train.head()"
   ]
  },
  {
   "cell_type": "markdown",
   "id": "fba68b01",
   "metadata": {},
   "source": [
    "## Testing Data"
   ]
  },
  {
   "cell_type": "code",
   "execution_count": 5,
   "id": "438b6925",
   "metadata": {},
   "outputs": [
    {
     "data": {
      "text/html": [
       "<div>\n",
       "<style scoped>\n",
       "    .dataframe tbody tr th:only-of-type {\n",
       "        vertical-align: middle;\n",
       "    }\n",
       "\n",
       "    .dataframe tbody tr th {\n",
       "        vertical-align: top;\n",
       "    }\n",
       "\n",
       "    .dataframe thead th {\n",
       "        text-align: right;\n",
       "    }\n",
       "</style>\n",
       "<table border=\"1\" class=\"dataframe\">\n",
       "  <thead>\n",
       "    <tr style=\"text-align: right;\">\n",
       "      <th></th>\n",
       "      <th>data</th>\n",
       "      <th>target</th>\n",
       "    </tr>\n",
       "  </thead>\n",
       "  <tbody>\n",
       "    <tr>\n",
       "      <th>0</th>\n",
       "      <td>From: v064mb9k@ubvmsd.cc.buffalo.edu (NEIL B. ...</td>\n",
       "      <td>7</td>\n",
       "    </tr>\n",
       "    <tr>\n",
       "      <th>1</th>\n",
       "      <td>From: Rick Miller &lt;rick@ee.uwm.edu&gt;\\nSubject: ...</td>\n",
       "      <td>5</td>\n",
       "    </tr>\n",
       "    <tr>\n",
       "      <th>2</th>\n",
       "      <td>From: mathew &lt;mathew@mantis.co.uk&gt;\\nSubject: R...</td>\n",
       "      <td>0</td>\n",
       "    </tr>\n",
       "    <tr>\n",
       "      <th>3</th>\n",
       "      <td>From: bakken@cs.arizona.edu (Dave Bakken)\\nSub...</td>\n",
       "      <td>17</td>\n",
       "    </tr>\n",
       "    <tr>\n",
       "      <th>4</th>\n",
       "      <td>From: livesey@solntze.wpd.sgi.com (Jon Livesey...</td>\n",
       "      <td>19</td>\n",
       "    </tr>\n",
       "  </tbody>\n",
       "</table>\n",
       "</div>"
      ],
      "text/plain": [
       "                                                data  target\n",
       "0  From: v064mb9k@ubvmsd.cc.buffalo.edu (NEIL B. ...       7\n",
       "1  From: Rick Miller <rick@ee.uwm.edu>\\nSubject: ...       5\n",
       "2  From: mathew <mathew@mantis.co.uk>\\nSubject: R...       0\n",
       "3  From: bakken@cs.arizona.edu (Dave Bakken)\\nSub...      17\n",
       "4  From: livesey@solntze.wpd.sgi.com (Jon Livesey...      19"
      ]
     },
     "execution_count": 5,
     "metadata": {},
     "output_type": "execute_result"
    }
   ],
   "source": [
    "df_test = pd.DataFrame({'data': test_data.data, 'target':test_data.target})\n",
    "df_test.head()"
   ]
  },
  {
   "cell_type": "markdown",
   "id": "eaebd837",
   "metadata": {},
   "source": [
    "## Pre-Processing Text"
   ]
  },
  {
   "cell_type": "code",
   "execution_count": 6,
   "id": "d9db07cd",
   "metadata": {},
   "outputs": [],
   "source": [
    "def preprocess_text(string):\n",
    "    string = re.sub(r\"\\w*\\d\\w*\", ' ', string)\n",
    "    string = re.sub('[^\\w\\s]', ' ', string)\n",
    "    string = re.sub('[\\n]', ' ', string)\n",
    "    string = re.sub('\\s+', ' ', string)\n",
    "\n",
    "    return string.lower()"
   ]
  },
  {
   "cell_type": "markdown",
   "id": "8527b5c4",
   "metadata": {},
   "source": [
    "### Cleaning training data"
   ]
  },
  {
   "cell_type": "code",
   "execution_count": 7,
   "id": "3ed4e5c3",
   "metadata": {},
   "outputs": [
    {
     "name": "stdout",
     "output_type": "stream",
     "text": [
      "Time Taken : 6.554536581039429\n"
     ]
    }
   ],
   "source": [
    "begin = time.time()\n",
    "\n",
    "df_train['data'] = df_train['data'].apply(lambda x: preprocess_text(x))\n",
    "\n",
    "time.sleep(1)\n",
    "end = time.time()\n",
    "print('Time Taken :', end-begin)"
   ]
  },
  {
   "cell_type": "markdown",
   "id": "49cf7c94",
   "metadata": {},
   "source": [
    "### Cleaning test data"
   ]
  },
  {
   "cell_type": "code",
   "execution_count": 9,
   "id": "81e0445b",
   "metadata": {},
   "outputs": [
    {
     "name": "stdout",
     "output_type": "stream",
     "text": [
      "Time Taken : 3.8633434772491455\n"
     ]
    }
   ],
   "source": [
    "begin = time.time()\n",
    "\n",
    "df_test['data'] = df_test['data'].apply(lambda x: preprocess_text(x))\n",
    "\n",
    "time.sleep(1)\n",
    "end = time.time()\n",
    "print('Time Taken :', end-begin)"
   ]
  },
  {
   "cell_type": "markdown",
   "id": "2abad635",
   "metadata": {},
   "source": [
    "## Feature Extraction / Creating Vocabulary from all the given text data"
   ]
  },
  {
   "cell_type": "code",
   "execution_count": 10,
   "id": "6f0a6f37",
   "metadata": {},
   "outputs": [],
   "source": [
    "def create_vocab(text_data):\n",
    "    vocabulary = {}\n",
    "    \n",
    "    # getting stopwords from nltk library\n",
    "    from nltk.corpus import stopwords\n",
    "    stop_words = stopwords.words('english')\n",
    "    \n",
    "    #Adding word to a vocab if it's not stop word , punctuaution and has length greater than 2\n",
    "    for file in df_train.data:\n",
    "        for word in file.split():\n",
    "            if word not in stop_words and word not in string.punctuation and len(word)!=1 and len(word)!=2:\n",
    "                if word not in vocabulary.keys():\n",
    "                    vocabulary[word] = 1\n",
    "                else:\n",
    "                    vocabulary[word] += 1\n",
    "\n",
    "    return vocabulary"
   ]
  },
  {
   "cell_type": "code",
   "execution_count": 11,
   "id": "2f006057",
   "metadata": {},
   "outputs": [
    {
     "data": {
      "text/plain": [
       "84052"
      ]
     },
     "execution_count": 11,
     "metadata": {},
     "output_type": "execute_result"
    }
   ],
   "source": [
    "vocabulary = create_vocab(df_train.data)\n",
    "len(vocabulary)"
   ]
  },
  {
   "cell_type": "code",
   "execution_count": 12,
   "id": "c64b57fd",
   "metadata": {},
   "outputs": [
    {
     "data": {
      "text/html": [
       "<div>\n",
       "<style scoped>\n",
       "    .dataframe tbody tr th:only-of-type {\n",
       "        vertical-align: middle;\n",
       "    }\n",
       "\n",
       "    .dataframe tbody tr th {\n",
       "        vertical-align: top;\n",
       "    }\n",
       "\n",
       "    .dataframe thead th {\n",
       "        text-align: right;\n",
       "    }\n",
       "</style>\n",
       "<table border=\"1\" class=\"dataframe\">\n",
       "  <thead>\n",
       "    <tr style=\"text-align: right;\">\n",
       "      <th></th>\n",
       "      <th>keys</th>\n",
       "      <th>values</th>\n",
       "    </tr>\n",
       "  </thead>\n",
       "  <tbody>\n",
       "    <tr>\n",
       "      <th>0</th>\n",
       "      <td>lerxst</td>\n",
       "      <td>4</td>\n",
       "    </tr>\n",
       "    <tr>\n",
       "      <th>1</th>\n",
       "      <td>wam</td>\n",
       "      <td>81</td>\n",
       "    </tr>\n",
       "    <tr>\n",
       "      <th>2</th>\n",
       "      <td>umd</td>\n",
       "      <td>295</td>\n",
       "    </tr>\n",
       "    <tr>\n",
       "      <th>3</th>\n",
       "      <td>edu</td>\n",
       "      <td>21321</td>\n",
       "    </tr>\n",
       "    <tr>\n",
       "      <th>4</th>\n",
       "      <td>thing</td>\n",
       "      <td>1532</td>\n",
       "    </tr>\n",
       "  </tbody>\n",
       "</table>\n",
       "</div>"
      ],
      "text/plain": [
       "     keys  values\n",
       "0  lerxst       4\n",
       "1     wam      81\n",
       "2     umd     295\n",
       "3     edu   21321\n",
       "4   thing    1532"
      ]
     },
     "execution_count": 12,
     "metadata": {},
     "output_type": "execute_result"
    }
   ],
   "source": [
    "df_v = pd.DataFrame({'keys':vocabulary.keys(), 'values':vocabulary.values()})\n",
    "df_v.head()"
   ]
  },
  {
   "cell_type": "code",
   "execution_count": 13,
   "id": "e54841f0",
   "metadata": {},
   "outputs": [
    {
     "data": {
      "text/plain": [
       "keys      5\n",
       "values    5\n",
       "dtype: int64"
      ]
     },
     "execution_count": 13,
     "metadata": {},
     "output_type": "execute_result"
    }
   ],
   "source": [
    "df_v[(df_v['values'] > 10000)].count()"
   ]
  },
  {
   "cell_type": "code",
   "execution_count": 14,
   "id": "4a95f958",
   "metadata": {},
   "outputs": [
    {
     "data": {
      "text/html": [
       "<div>\n",
       "<style scoped>\n",
       "    .dataframe tbody tr th:only-of-type {\n",
       "        vertical-align: middle;\n",
       "    }\n",
       "\n",
       "    .dataframe tbody tr th {\n",
       "        vertical-align: top;\n",
       "    }\n",
       "\n",
       "    .dataframe thead th {\n",
       "        text-align: right;\n",
       "    }\n",
       "</style>\n",
       "<table border=\"1\" class=\"dataframe\">\n",
       "  <thead>\n",
       "    <tr style=\"text-align: right;\">\n",
       "      <th></th>\n",
       "      <th>keys</th>\n",
       "      <th>values</th>\n",
       "    </tr>\n",
       "  </thead>\n",
       "  <tbody>\n",
       "    <tr>\n",
       "      <th>3</th>\n",
       "      <td>edu</td>\n",
       "      <td>21321</td>\n",
       "    </tr>\n",
       "    <tr>\n",
       "      <th>5</th>\n",
       "      <td>subject</td>\n",
       "      <td>12264</td>\n",
       "    </tr>\n",
       "    <tr>\n",
       "      <th>10</th>\n",
       "      <td>organization</td>\n",
       "      <td>11233</td>\n",
       "    </tr>\n",
       "    <tr>\n",
       "      <th>15</th>\n",
       "      <td>lines</td>\n",
       "      <td>11835</td>\n",
       "    </tr>\n",
       "    <tr>\n",
       "      <th>244</th>\n",
       "      <td>com</td>\n",
       "      <td>12133</td>\n",
       "    </tr>\n",
       "  </tbody>\n",
       "</table>\n",
       "</div>"
      ],
      "text/plain": [
       "             keys  values\n",
       "3             edu   21321\n",
       "5         subject   12264\n",
       "10   organization   11233\n",
       "15          lines   11835\n",
       "244           com   12133"
      ]
     },
     "execution_count": 14,
     "metadata": {},
     "output_type": "execute_result"
    }
   ],
   "source": [
    "df_v[(df_v['values'] > 10000)]"
   ]
  },
  {
   "cell_type": "markdown",
   "id": "150e51bc",
   "metadata": {},
   "source": [
    "There are only 5 values which ocuurs more than 10,000 times. And put of those some looks important like organiztion, lines. So,\n",
    "I'm removing only values which occurs more than 20,000 times and edu"
   ]
  },
  {
   "cell_type": "code",
   "execution_count": 15,
   "id": "02712cbf",
   "metadata": {
    "scrolled": true
   },
   "outputs": [
    {
     "data": {
      "text/html": [
       "<div>\n",
       "<style scoped>\n",
       "    .dataframe tbody tr th:only-of-type {\n",
       "        vertical-align: middle;\n",
       "    }\n",
       "\n",
       "    .dataframe tbody tr th {\n",
       "        vertical-align: top;\n",
       "    }\n",
       "\n",
       "    .dataframe thead th {\n",
       "        text-align: right;\n",
       "    }\n",
       "</style>\n",
       "<table border=\"1\" class=\"dataframe\">\n",
       "  <thead>\n",
       "    <tr style=\"text-align: right;\">\n",
       "      <th></th>\n",
       "      <th>keys</th>\n",
       "      <th>values</th>\n",
       "    </tr>\n",
       "  </thead>\n",
       "  <tbody>\n",
       "    <tr>\n",
       "      <th>0</th>\n",
       "      <td>lerxst</td>\n",
       "      <td>4</td>\n",
       "    </tr>\n",
       "    <tr>\n",
       "      <th>1</th>\n",
       "      <td>wam</td>\n",
       "      <td>81</td>\n",
       "    </tr>\n",
       "    <tr>\n",
       "      <th>2</th>\n",
       "      <td>umd</td>\n",
       "      <td>295</td>\n",
       "    </tr>\n",
       "    <tr>\n",
       "      <th>4</th>\n",
       "      <td>thing</td>\n",
       "      <td>1532</td>\n",
       "    </tr>\n",
       "    <tr>\n",
       "      <th>5</th>\n",
       "      <td>subject</td>\n",
       "      <td>12264</td>\n",
       "    </tr>\n",
       "  </tbody>\n",
       "</table>\n",
       "</div>"
      ],
      "text/plain": [
       "      keys  values\n",
       "0   lerxst       4\n",
       "1      wam      81\n",
       "2      umd     295\n",
       "4    thing    1532\n",
       "5  subject   12264"
      ]
     },
     "execution_count": 15,
     "metadata": {},
     "output_type": "execute_result"
    }
   ],
   "source": [
    "df_v = df_v[(df_v['values'] < 20000)]\n",
    "df_v.head()"
   ]
  },
  {
   "cell_type": "code",
   "execution_count": 16,
   "id": "c9e3dcfe",
   "metadata": {},
   "outputs": [
    {
     "data": {
      "text/html": [
       "<div>\n",
       "<style scoped>\n",
       "    .dataframe tbody tr th:only-of-type {\n",
       "        vertical-align: middle;\n",
       "    }\n",
       "\n",
       "    .dataframe tbody tr th {\n",
       "        vertical-align: top;\n",
       "    }\n",
       "\n",
       "    .dataframe thead th {\n",
       "        text-align: right;\n",
       "    }\n",
       "</style>\n",
       "<table border=\"1\" class=\"dataframe\">\n",
       "  <thead>\n",
       "    <tr style=\"text-align: right;\">\n",
       "      <th></th>\n",
       "      <th>keys</th>\n",
       "      <th>values</th>\n",
       "    </tr>\n",
       "  </thead>\n",
       "  <tbody>\n",
       "    <tr>\n",
       "      <th>0</th>\n",
       "      <td>subject</td>\n",
       "      <td>12264</td>\n",
       "    </tr>\n",
       "    <tr>\n",
       "      <th>1</th>\n",
       "      <td>com</td>\n",
       "      <td>12133</td>\n",
       "    </tr>\n",
       "    <tr>\n",
       "      <th>2</th>\n",
       "      <td>lines</td>\n",
       "      <td>11835</td>\n",
       "    </tr>\n",
       "    <tr>\n",
       "      <th>3</th>\n",
       "      <td>organization</td>\n",
       "      <td>11233</td>\n",
       "    </tr>\n",
       "    <tr>\n",
       "      <th>4</th>\n",
       "      <td>one</td>\n",
       "      <td>9008</td>\n",
       "    </tr>\n",
       "  </tbody>\n",
       "</table>\n",
       "</div>"
      ],
      "text/plain": [
       "           keys  values\n",
       "0       subject   12264\n",
       "1           com   12133\n",
       "2         lines   11835\n",
       "3  organization   11233\n",
       "4           one    9008"
      ]
     },
     "execution_count": 16,
     "metadata": {},
     "output_type": "execute_result"
    }
   ],
   "source": [
    "df_v = df_v.sort_values(by=['values'], ascending=False).reset_index(drop=True)\n",
    "df_v.head()"
   ]
  },
  {
   "cell_type": "markdown",
   "id": "8964a262",
   "metadata": {},
   "source": [
    "#### Selecting only top 10000 words as features"
   ]
  },
  {
   "cell_type": "code",
   "execution_count": 17,
   "id": "e9af13d1",
   "metadata": {},
   "outputs": [
    {
     "data": {
      "text/plain": [
       "(10000, 2)"
      ]
     },
     "execution_count": 17,
     "metadata": {},
     "output_type": "execute_result"
    }
   ],
   "source": [
    "df_v = df_v[:10000]\n",
    "df_v.shape"
   ]
  },
  {
   "cell_type": "markdown",
   "id": "f2b53efa",
   "metadata": {},
   "source": [
    "## Frequency of distribution of words"
   ]
  },
  {
   "cell_type": "code",
   "execution_count": 18,
   "id": "5447bbaa",
   "metadata": {},
   "outputs": [
    {
     "data": {
      "image/png": "[encoded data removed]",
      "text/plain": [
       "<Figure size 1440x504 with 1 Axes>"
      ]
     },
     "metadata": {
      "needs_background": "light"
     },
     "output_type": "display_data"
    }
   ],
   "source": [
    "# Plot Figure size\n",
    "plt.figure(figsize=(20,7))\n",
    "\n",
    "# Actual plot\n",
    "plt.plot(df_v['values'], linewidth=3)\n",
    "\n",
    "# This will add X-axis values range\n",
    "plt.xticks(range(0, 10500, 500))\n",
    "\n",
    "# This will add Y-axis values range\n",
    "plt.yticks(range(0, 13000, 500))\n",
    "\n",
    "\n",
    "# This will add label to the X-axis\n",
    "plt.xlabel('Words', size='x-large')\n",
    "\n",
    "# This will add label to the Y-axis\n",
    "plt.ylabel('Frequency', size='x-large')\n",
    "\n",
    "# This will add title to the plot\n",
    "plt.title('Frequency Distribution of Words')\n",
    "\n",
    "plt.grid()\n",
    "plt.show()"
   ]
  },
  {
   "cell_type": "markdown",
   "id": "05ac9ea8",
   "metadata": {},
   "source": [
    "#### Inference From the Graph :"
   ]
  },
  {
   "cell_type": "markdown",
   "id": "4d651e5c",
   "metadata": {},
   "source": [
    "    1. Most of the words occur very less frequently\n",
    "    2. Less than 250 words occurs more than 1000 times "
   ]
  },
  {
   "cell_type": "markdown",
   "id": "45aaaf9f",
   "metadata": {},
   "source": [
    "## Storing Vocabulary in features variable"
   ]
  },
  {
   "cell_type": "code",
   "execution_count": 19,
   "id": "fb5ab589",
   "metadata": {},
   "outputs": [],
   "source": [
    "features = np.array(df_v['keys'])"
   ]
  },
  {
   "cell_type": "markdown",
   "id": "015e7760",
   "metadata": {},
   "source": [
    "## Creating a feature vector with extracted features and counting occurence of each word in a document which exists in dictionary"
   ]
  },
  {
   "cell_type": "code",
   "execution_count": 34,
   "id": "5537a0cc",
   "metadata": {},
   "outputs": [],
   "source": [
    "# This function turn the text content into numerical feature vectors which can be passed into ML model.\n",
    "\n",
    "def convert_text(x_data, features):\n",
    "    # creating a dummy np array of zeroes with col size same as feature and row size same as actual data point\n",
    "    final_list = np.zeros((len(x_data), len(features)))\n",
    "    \n",
    "    for i in range(len(x_data)):\n",
    "        #looping over each and every row in the x_data\n",
    "        curr_file = x_data[i]\n",
    "        d = dict()\n",
    "        \n",
    "        # Addding frequency of every word in a document\n",
    "        for word in curr_file:\n",
    "            if word in d.keys():\n",
    "                d[word] += 1\n",
    "            else:\n",
    "                d[word] = 1\n",
    "        \n",
    "        # the frequency of each feature in that current document.\n",
    "        for j in range(len(features)):\n",
    "            if features[j] in d.keys():\n",
    "                final_list[i][j] = d[features[j]]\n",
    "            else:\n",
    "                #if the current feature is not in the dictionary, it will remain 0 in the modified_data 2D matrix\n",
    "                continue\n",
    "\n",
    "    return final_list "
   ]
  },
  {
   "cell_type": "markdown",
   "id": "19193eb0",
   "metadata": {},
   "source": [
    "#### Creating training text vector "
   ]
  },
  {
   "cell_type": "code",
   "execution_count": 32,
   "id": "9ecff8dc",
   "metadata": {},
   "outputs": [],
   "source": [
    "# Tokenizing the text row / splitting the whole string into separate words\n",
    "\n",
    "df_train['data'] = df_train['data'].apply(lambda x: word_tokenize(x))"
   ]
  },
  {
   "cell_type": "code",
   "execution_count": 53,
   "id": "9441f90e",
   "metadata": {},
   "outputs": [
    {
     "data": {
      "text/plain": [
       "(11314, 10000)"
      ]
     },
     "execution_count": 53,
     "metadata": {},
     "output_type": "execute_result"
    }
   ],
   "source": [
    "text_train_vector = convert_text(df_train['data'], features)\n",
    "text_train_vector.shape"
   ]
  },
  {
   "cell_type": "markdown",
   "id": "37d8ad2c",
   "metadata": {},
   "source": [
    "#### Creating test text vector "
   ]
  },
  {
   "cell_type": "code",
   "execution_count": 56,
   "id": "6e0ee6b6",
   "metadata": {},
   "outputs": [],
   "source": [
    "# Tokenizing the text row / splitting the whole string into separate words\n",
    "\n",
    "df_test['data'] = df_test['data'].apply(lambda x: word_tokenize(x))"
   ]
  },
  {
   "cell_type": "code",
   "execution_count": 57,
   "id": "8e587dd8",
   "metadata": {},
   "outputs": [
    {
     "data": {
      "text/plain": [
       "(7532, 10000)"
      ]
     },
     "execution_count": 57,
     "metadata": {},
     "output_type": "execute_result"
    }
   ],
   "source": [
    "text_test_vector = convert_text(df_test['data'], features)\n",
    "text_test_vector.shape"
   ]
  },
  {
   "cell_type": "markdown",
   "id": "8c9a7ca1",
   "metadata": {},
   "source": [
    "# Implementation Through Inbuilt NB Classifier"
   ]
  },
  {
   "cell_type": "markdown",
   "id": "191b77b7",
   "metadata": {},
   "source": [
    "##### Initializing the model multinomial NB"
   ]
  },
  {
   "cell_type": "code",
   "execution_count": 58,
   "id": "43886d4f",
   "metadata": {},
   "outputs": [
    {
     "data": {
      "text/plain": [
       "MultinomialNB()"
      ]
     },
     "execution_count": 58,
     "metadata": {},
     "output_type": "execute_result"
    }
   ],
   "source": [
    "from sklearn.naive_bayes import MultinomialNB\n",
    "clf = MultinomialNB()\n",
    "\n",
    "clf.fit(text_train_vector, df_train['target'].values)"
   ]
  },
  {
   "cell_type": "markdown",
   "id": "0e7b2bff",
   "metadata": {},
   "source": [
    "##### Predicting"
   ]
  },
  {
   "cell_type": "code",
   "execution_count": 64,
   "id": "60ec6c17",
   "metadata": {},
   "outputs": [],
   "source": [
    "predictions_sklearn = clf.predict(text_test_vector)"
   ]
  },
  {
   "cell_type": "code",
   "execution_count": 137,
   "id": "08b0fe33",
   "metadata": {},
   "outputs": [
    {
     "name": "stdout",
     "output_type": "stream",
     "text": [
      "Classification Report\n",
      "                          precision    recall  f1-score   support\n",
      "\n",
      "             alt.atheism       0.75      0.77      0.76       319\n",
      "           comp.graphics       0.60      0.77      0.67       389\n",
      " comp.os.ms-windows.misc       0.83      0.51      0.63       394\n",
      "comp.sys.ibm.pc.hardware       0.60      0.72      0.66       392\n",
      "   comp.sys.mac.hardware       0.70      0.83      0.76       385\n",
      "          comp.windows.x       0.88      0.72      0.79       395\n",
      "            misc.forsale       0.76      0.85      0.80       390\n",
      "               rec.autos       0.84      0.88      0.86       396\n",
      "         rec.motorcycles       0.88      0.93      0.91       398\n",
      "      rec.sport.baseball       0.92      0.91      0.92       397\n",
      "        rec.sport.hockey       0.95      0.96      0.96       399\n",
      "               sci.crypt       0.92      0.89      0.90       396\n",
      "         sci.electronics       0.76      0.69      0.73       393\n",
      "                 sci.med       0.89      0.79      0.84       396\n",
      "               sci.space       0.88      0.89      0.88       394\n",
      "  soc.religion.christian       0.88      0.90      0.89       398\n",
      "      talk.politics.guns       0.73      0.90      0.81       364\n",
      "   talk.politics.mideast       0.97      0.84      0.90       376\n",
      "      talk.politics.misc       0.74      0.58      0.65       310\n",
      "      talk.religion.misc       0.63      0.57      0.60       251\n",
      "\n",
      "                accuracy                           0.80      7532\n",
      "               macro avg       0.81      0.80      0.80      7532\n",
      "            weighted avg       0.81      0.80      0.80      7532\n",
      "\n",
      "\n",
      "Accuracy Score\n",
      "80.23101433882103%\n"
     ]
    }
   ],
   "source": [
    "# Various metrics for understanding how well our model has performed.\n",
    "from sklearn.metrics import classification_report, confusion_matrix, accuracy_score\n",
    "\n",
    "print(\"Classification Report\")\n",
    "print(classification_report(df_test['target'].values, predictions_sklearn, target_names=test_data.target_names))\n",
    "print()\n",
    "print(\"Accuracy Score\")\n",
    "print(accuracy_score(df_test['target'].values, predictions_sklearn) * 100, \"%\", sep=\"\")"
   ]
  },
  {
   "cell_type": "markdown",
   "id": "1c1cfa86",
   "metadata": {},
   "source": [
    "# My Implementation of NB"
   ]
  },
  {
   "cell_type": "code",
   "execution_count": 115,
   "id": "241d4e6d",
   "metadata": {},
   "outputs": [],
   "source": [
    "# Function that will fit training data\n",
    "def fit(X_train, Y_train):\n",
    "    # resultant dictionary\n",
    "    result = {}\n",
    "    class_values = set(Y_train)\n",
    "    \n",
    "    # looping over each class \n",
    "    for current_class in class_values:\n",
    "        # Each class will have a dictionary\n",
    "        result[current_class] = {}\n",
    "        \n",
    "        num_features = X_train.shape[1]\n",
    "        \n",
    "        # Total count store the number of words in a class\n",
    "        result[current_class][\"total_count\"] = 0\n",
    "        X_curr_train = X_train[Y_train == current_class]\n",
    "        \n",
    "        for j in range(num_features):\n",
    "            result[current_class][features[j]] = X_curr_train[:, j].sum()\n",
    "            \n",
    "            result[current_class][\"total_count\"] += result[current_class][features[j]]\n",
    "                \n",
    "    return result\n",
    "\n",
    "# Function to find probability of current class\n",
    "def probability(dictionary, x, current_class):\n",
    "    output = 0\n",
    "    \n",
    "    for j in range(len(x)):\n",
    "        if x[j] != 0:\n",
    "            count_current_class_with_word_j = dictionary[current_class][features[j]] + 1\n",
    "            count_current_class = dictionary[current_class][\"total_count\"] + len(x)\n",
    "\n",
    "            current_word_probablity = np.log(count_current_class_with_word_j) - np.log(count_current_class)\n",
    "            output += current_word_probablity\n",
    "    return output\n",
    "\n",
    "# This function predicts what class a single point belongs to\n",
    "def predictSinglePoint(dictionary, x):\n",
    "    classes = dictionary.keys()\n",
    "    best_p = -1000\n",
    "    best_class = -1\n",
    "    first_run = True\n",
    "    for current_class in classes:\n",
    "        p_current_class = probability(dictionary, x, current_class)\n",
    "        if (first_run or p_current_class > best_p):             # Obtaining the class with higher probability\n",
    "            best_p = p_current_class\n",
    "            best_class = current_class\n",
    "        first_run = False\n",
    "    return best_class\n",
    "\n",
    "def predict(dictionary, X_test):\n",
    "    y_pred = []\n",
    "    for x in X_test:\n",
    "        x_class = predictSinglePoint(dictionary, x)\n",
    "        y_pred.append(x_class)\n",
    "    return y_pred"
   ]
  },
  {
   "cell_type": "markdown",
   "id": "47f6e1a8",
   "metadata": {},
   "source": [
    "### Fitting training data "
   ]
  },
  {
   "cell_type": "code",
   "execution_count": 116,
   "id": "194ae169",
   "metadata": {},
   "outputs": [],
   "source": [
    "dictionary = fit(text_train_vector, df_train['target'].values)"
   ]
  },
  {
   "cell_type": "markdown",
   "id": "e9b4fb75",
   "metadata": {},
   "source": [
    "### Predicting test data"
   ]
  },
  {
   "cell_type": "code",
   "execution_count": 135,
   "id": "26125d72",
   "metadata": {},
   "outputs": [],
   "source": [
    "Y_pred = predict(dictionary, text_test_vector)"
   ]
  },
  {
   "cell_type": "code",
   "execution_count": 138,
   "id": "cb741e2c",
   "metadata": {},
   "outputs": [
    {
     "name": "stdout",
     "output_type": "stream",
     "text": [
      "Classification Report\n",
      "                          precision    recall  f1-score   support\n",
      "\n",
      "             alt.atheism       0.72      0.76      0.74       319\n",
      "           comp.graphics       0.56      0.78      0.66       389\n",
      " comp.os.ms-windows.misc       0.85      0.37      0.51       394\n",
      "comp.sys.ibm.pc.hardware       0.59      0.69      0.63       392\n",
      "   comp.sys.mac.hardware       0.66      0.82      0.74       385\n",
      "          comp.windows.x       0.87      0.70      0.78       395\n",
      "            misc.forsale       0.77      0.85      0.81       390\n",
      "               rec.autos       0.83      0.89      0.86       396\n",
      "         rec.motorcycles       0.87      0.92      0.89       398\n",
      "      rec.sport.baseball       0.93      0.92      0.92       397\n",
      "        rec.sport.hockey       0.97      0.94      0.96       399\n",
      "               sci.crypt       0.90      0.87      0.89       396\n",
      "         sci.electronics       0.74      0.70      0.72       393\n",
      "                 sci.med       0.89      0.80      0.84       396\n",
      "               sci.space       0.91      0.88      0.89       394\n",
      "  soc.religion.christian       0.89      0.89      0.89       398\n",
      "      talk.politics.guns       0.71      0.91      0.79       364\n",
      "   talk.politics.mideast       0.97      0.82      0.89       376\n",
      "      talk.politics.misc       0.69      0.57      0.62       310\n",
      "      talk.religion.misc       0.65      0.61      0.63       251\n",
      "\n",
      "                accuracy                           0.79      7532\n",
      "               macro avg       0.80      0.78      0.78      7532\n",
      "            weighted avg       0.80      0.79      0.79      7532\n",
      "\n",
      "\n",
      "Accuracy Score\n",
      "79.06266595857674%\n"
     ]
    }
   ],
   "source": [
    "# Various metrics for understanding how well our model has performed.\n",
    "from sklearn.metrics import classification_report, confusion_matrix, accuracy_score\n",
    "\n",
    "print(\"Classification Report\")\n",
    "print(classification_report(df_test['target'].values, Y_pred, target_names=test_data.target_names))\n",
    "\n",
    "print()\n",
    "print(\"Accuracy Score\")\n",
    "print(accuracy_score(df_test['target'].values, Y_pred) * 100, \"%\", sep=\"\")"
   ]
  },
  {
   "cell_type": "markdown",
   "id": "d1a459df",
   "metadata": {},
   "source": [
    "## Diff. in Accuracy (Sklearn Model - My implemented ) : 1.17%"
   ]
  },
  {
   "cell_type": "markdown",
   "id": "15545a9b",
   "metadata": {},
   "source": [
    "## Plotting a graph of counts of target values predicted by Sklearn model, my implementation and actual values"
   ]
  },
  {
   "cell_type": "code",
   "execution_count": 200,
   "id": "64bf5bed",
   "metadata": {
    "scrolled": true
   },
   "outputs": [],
   "source": [
    "from collections import Counter\n",
    "\n",
    "my_model_predictions = Counter(Y_pred)\n",
    "skealrn_predicitons = Counter(predictions_sklearn)\n",
    "actual_values = Counter(df_test['target'].values)"
   ]
  },
  {
   "cell_type": "code",
   "execution_count": 206,
   "id": "02b3b1dc",
   "metadata": {},
   "outputs": [
    {
     "data": {
      "text/plain": [
       "[<matplotlib.axis.XTick at 0x2518e42e280>,\n",
       " <matplotlib.axis.XTick at 0x2518e42e250>,\n",
       " <matplotlib.axis.XTick at 0x2518e41ff70>,\n",
       " <matplotlib.axis.XTick at 0x2518e52f700>,\n",
       " <matplotlib.axis.XTick at 0x2518e5320a0>,\n",
       " <matplotlib.axis.XTick at 0x2518e532cd0>,\n",
       " <matplotlib.axis.XTick at 0x2518e53d460>,\n",
       " <matplotlib.axis.XTick at 0x2518e53dbb0>,\n",
       " <matplotlib.axis.XTick at 0x251907d5340>,\n",
       " <matplotlib.axis.XTick at 0x2518e53dd60>,\n",
       " <matplotlib.axis.XTick at 0x2518e532b80>,\n",
       " <matplotlib.axis.XTick at 0x251907d5b20>,\n",
       " <matplotlib.axis.XTick at 0x251907dc130>,\n",
       " <matplotlib.axis.XTick at 0x251907dc7c0>,\n",
       " <matplotlib.axis.XTick at 0x251907dcf10>,\n",
       " <matplotlib.axis.XTick at 0x251907e16a0>,\n",
       " <matplotlib.axis.XTick at 0x251907dc700>,\n",
       " <matplotlib.axis.XTick at 0x251907d5bb0>,\n",
       " <matplotlib.axis.XTick at 0x2518e4fcc10>,\n",
       " <matplotlib.axis.XTick at 0x2518e49f100>]"
      ]
     },
     "execution_count": 206,
     "metadata": {},
     "output_type": "execute_result"
    },
    {
     "data": {
      "image/png": "[encoded data removed]",
      "text/plain": [
       "<Figure size 1440x576 with 3 Axes>"
      ]
     },
     "metadata": {
      "needs_background": "light"
     },
     "output_type": "display_data"
    }
   ],
   "source": [
    "fig, (ax1, ax2, ax3) = plt.subplots(1, 3, figsize=(20,8))\n",
    "fig.suptitle('Count of Target Variables')\n",
    "\n",
    "## PLOT FOR SKLEARN PREDICTIONS\n",
    "ax1.bar(skealrn_predicitons.keys(), skealrn_predicitons.values(), color='b', label='Sklearn Predicted Values')\n",
    "ax1.set_title('Distribution of SKlearn Prediction Variable')\n",
    "ax1.set_yticks(range(0,600,100))\n",
    "ax1.set_xticks(range(0,20))\n",
    "\n",
    "\n",
    "## PLOT FOR ACTUAL TARGET\n",
    "ax2.bar(actual_values.keys(), actual_values.values(), color='r', label='True Values')\n",
    "ax2.set_title('Distribution of Target Variable')\n",
    "ax2.set_yticks(range(0,600,100))\n",
    "ax2.set_xticks(range(0,20))\n",
    "\n",
    "\n",
    "## PLOT FOR MY MODEL IMPLEMENTATION PREDICTIONS\n",
    "ax3.bar(my_model_predictions.keys(), my_model_predictions.values(), color='g', label='Predicted Values')\n",
    "ax3.set_title('Distribution of Prediction Variable')\n",
    "ax3.set_yticks(range(0,600,100))\n",
    "ax3.set_xticks(range(0,20))"
   ]
  },
  {
   "cell_type": "markdown",
   "id": "e9959c07",
   "metadata": {},
   "source": [
    "#### Left Side : Inbuilt sklearn model prediction distribution\n",
    "#### Center :  True values distribution\n",
    "#### Right Side : My implemented model prediction distribution"
   ]
  },
  {
   "cell_type": "markdown",
   "id": "100d82ff",
   "metadata": {},
   "source": [
    "##### This Plot shows us the count of each target or output classes by my implemented model and inbuilt sklearn models and thorugh the plot we can see that they're very similiar."
   ]
  },
  {
   "cell_type": "code",
   "execution_count": null,
   "id": "b67566f4",
   "metadata": {},
   "outputs": [],
   "source": []
  }
 ],
 "metadata": {
  "kernelspec": {
   "display_name": "Python 3 (ipykernel)",
   "language": "python",
   "name": "python3"
  },
  "language_info": {
   "codemirror_mode": {
    "name": "ipython",
    "version": 3
   },
   "file_extension": ".py",
   "mimetype": "text/x-python",
   "name": "python",
   "nbconvert_exporter": "python",
   "pygments_lexer": "ipython3",
   "version": "3.9.7"
  }
 },
 "nbformat": 4,
 "nbformat_minor": 5
}
